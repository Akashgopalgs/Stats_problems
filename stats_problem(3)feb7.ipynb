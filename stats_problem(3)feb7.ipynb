{
 "cells": [
  {
   "cell_type": "markdown",
   "id": "b8876ced",
   "metadata": {},
   "source": [
    "# Finding Coefficient of Variation (CV),Quartiles,Inter quartile range(IQR),Cortail Coefficient of dispersion (QCD) -- Median based mesures of dispersion"
   ]
  },
  {
   "cell_type": "code",
   "execution_count": null,
   "id": "462cdf91",
   "metadata": {},
   "outputs": [],
   "source": [
    "import pandas as pd\n",
    "import numpy as np"
   ]
  },
  {
   "cell_type": "code",
   "execution_count": 45,
   "id": "eefdd76b",
   "metadata": {},
   "outputs": [
    {
     "data": {
      "text/html": [
       "<div>\n",
       "<style scoped>\n",
       "    .dataframe tbody tr th:only-of-type {\n",
       "        vertical-align: middle;\n",
       "    }\n",
       "\n",
       "    .dataframe tbody tr th {\n",
       "        vertical-align: top;\n",
       "    }\n",
       "\n",
       "    .dataframe thead th {\n",
       "        text-align: right;\n",
       "    }\n",
       "</style>\n",
       "<table border=\"1\" class=\"dataframe\">\n",
       "  <thead>\n",
       "    <tr style=\"text-align: right;\">\n",
       "      <th></th>\n",
       "      <th>total_bill</th>\n",
       "      <th>tip</th>\n",
       "      <th>sex</th>\n",
       "      <th>smoker</th>\n",
       "      <th>day</th>\n",
       "      <th>time</th>\n",
       "      <th>size</th>\n",
       "    </tr>\n",
       "  </thead>\n",
       "  <tbody>\n",
       "    <tr>\n",
       "      <th>0</th>\n",
       "      <td>16.99</td>\n",
       "      <td>1.01</td>\n",
       "      <td>Female</td>\n",
       "      <td>No</td>\n",
       "      <td>Sun</td>\n",
       "      <td>Dinner</td>\n",
       "      <td>2</td>\n",
       "    </tr>\n",
       "    <tr>\n",
       "      <th>1</th>\n",
       "      <td>10.34</td>\n",
       "      <td>1.66</td>\n",
       "      <td>Male</td>\n",
       "      <td>No</td>\n",
       "      <td>Sun</td>\n",
       "      <td>Dinner</td>\n",
       "      <td>3</td>\n",
       "    </tr>\n",
       "    <tr>\n",
       "      <th>2</th>\n",
       "      <td>21.01</td>\n",
       "      <td>3.50</td>\n",
       "      <td>Male</td>\n",
       "      <td>No</td>\n",
       "      <td>Sun</td>\n",
       "      <td>Dinner</td>\n",
       "      <td>3</td>\n",
       "    </tr>\n",
       "    <tr>\n",
       "      <th>3</th>\n",
       "      <td>23.68</td>\n",
       "      <td>3.31</td>\n",
       "      <td>Male</td>\n",
       "      <td>No</td>\n",
       "      <td>Sun</td>\n",
       "      <td>Dinner</td>\n",
       "      <td>2</td>\n",
       "    </tr>\n",
       "    <tr>\n",
       "      <th>4</th>\n",
       "      <td>24.59</td>\n",
       "      <td>3.61</td>\n",
       "      <td>Female</td>\n",
       "      <td>No</td>\n",
       "      <td>Sun</td>\n",
       "      <td>Dinner</td>\n",
       "      <td>4</td>\n",
       "    </tr>\n",
       "    <tr>\n",
       "      <th>...</th>\n",
       "      <td>...</td>\n",
       "      <td>...</td>\n",
       "      <td>...</td>\n",
       "      <td>...</td>\n",
       "      <td>...</td>\n",
       "      <td>...</td>\n",
       "      <td>...</td>\n",
       "    </tr>\n",
       "    <tr>\n",
       "      <th>239</th>\n",
       "      <td>29.03</td>\n",
       "      <td>5.92</td>\n",
       "      <td>Male</td>\n",
       "      <td>No</td>\n",
       "      <td>Sat</td>\n",
       "      <td>Dinner</td>\n",
       "      <td>3</td>\n",
       "    </tr>\n",
       "    <tr>\n",
       "      <th>240</th>\n",
       "      <td>27.18</td>\n",
       "      <td>2.00</td>\n",
       "      <td>Female</td>\n",
       "      <td>Yes</td>\n",
       "      <td>Sat</td>\n",
       "      <td>Dinner</td>\n",
       "      <td>2</td>\n",
       "    </tr>\n",
       "    <tr>\n",
       "      <th>241</th>\n",
       "      <td>22.67</td>\n",
       "      <td>2.00</td>\n",
       "      <td>Male</td>\n",
       "      <td>Yes</td>\n",
       "      <td>Sat</td>\n",
       "      <td>Dinner</td>\n",
       "      <td>2</td>\n",
       "    </tr>\n",
       "    <tr>\n",
       "      <th>242</th>\n",
       "      <td>17.82</td>\n",
       "      <td>1.75</td>\n",
       "      <td>Male</td>\n",
       "      <td>No</td>\n",
       "      <td>Sat</td>\n",
       "      <td>Dinner</td>\n",
       "      <td>2</td>\n",
       "    </tr>\n",
       "    <tr>\n",
       "      <th>243</th>\n",
       "      <td>18.78</td>\n",
       "      <td>3.00</td>\n",
       "      <td>Female</td>\n",
       "      <td>No</td>\n",
       "      <td>Thur</td>\n",
       "      <td>Dinner</td>\n",
       "      <td>2</td>\n",
       "    </tr>\n",
       "  </tbody>\n",
       "</table>\n",
       "<p>244 rows × 7 columns</p>\n",
       "</div>"
      ],
      "text/plain": [
       "     total_bill   tip     sex smoker   day    time  size\n",
       "0         16.99  1.01  Female     No   Sun  Dinner     2\n",
       "1         10.34  1.66    Male     No   Sun  Dinner     3\n",
       "2         21.01  3.50    Male     No   Sun  Dinner     3\n",
       "3         23.68  3.31    Male     No   Sun  Dinner     2\n",
       "4         24.59  3.61  Female     No   Sun  Dinner     4\n",
       "..          ...   ...     ...    ...   ...     ...   ...\n",
       "239       29.03  5.92    Male     No   Sat  Dinner     3\n",
       "240       27.18  2.00  Female    Yes   Sat  Dinner     2\n",
       "241       22.67  2.00    Male    Yes   Sat  Dinner     2\n",
       "242       17.82  1.75    Male     No   Sat  Dinner     2\n",
       "243       18.78  3.00  Female     No  Thur  Dinner     2\n",
       "\n",
       "[244 rows x 7 columns]"
      ]
     },
     "execution_count": 45,
     "metadata": {},
     "output_type": "execute_result"
    }
   ],
   "source": [
    "tips = pd.read_csv(r\"C:\\Users\\akash\\Documents\\seaborn_data\\seaborn-data\\tips.csv\")\n",
    "tips"
   ]
  },
  {
   "cell_type": "markdown",
   "id": "97134761",
   "metadata": {},
   "source": [
    "**Coefficient of Variation (CV)**"
   ]
  },
  {
   "cell_type": "code",
   "execution_count": 78,
   "id": "1578d59b",
   "metadata": {},
   "outputs": [],
   "source": [
    "tip_mean=tips['tip'].mean()\n",
    "tip_std=tips['tip'].std()\n",
    "\n",
    "bill_mean=tips['total_bill'].mean()\n",
    "bill_std=tips['total_bill'].std()\n",
    "\n",
    "tips_cv=tip_std/tip_mean\n",
    "bill_cv=bill_std/bill_mean\n"
   ]
  },
  {
   "cell_type": "code",
   "execution_count": 79,
   "id": "7d27c4b1",
   "metadata": {},
   "outputs": [
    {
     "name": "stdout",
     "output_type": "stream",
     "text": [
      "Coefficient of variation of tip is 0.46147751184598895\n",
      "Coefficient of variation of total bill is 0.44993620594706724\n"
     ]
    }
   ],
   "source": [
    "print(f'Coefficient of variation of tip is {tips_cv}')\n",
    "print(f'Coefficient of variation of total bill is {bill_cv}')"
   ]
  },
  {
   "cell_type": "markdown",
   "id": "951437c2",
   "metadata": {},
   "source": [
    "**Quartiles / Quantiles**"
   ]
  },
  {
   "cell_type": "code",
   "execution_count": 80,
   "id": "370caf06",
   "metadata": {},
   "outputs": [
    {
     "name": "stdout",
     "output_type": "stream",
     "text": [
      "1st Quartile is 2.0\n",
      "2nd Quartile is 2.9\n",
      "3rd Quartile is 3.5625\n",
      "4th Quartile is 10.0\n"
     ]
    }
   ],
   "source": [
    "Q1 = np.quantile(tips['tip'],q=0.25)\n",
    "Q2 = np.quantile(tips['tip'],q=0.50)\n",
    "Q3 = np.quantile(tips['tip'],q=0.75)\n",
    "Q4 = np.quantile(tips['tip'],q=1)\n",
    "print(f\"1st Quartile is {Q1}\")\n",
    "print(f\"2nd Quartile is {Q2}\")\n",
    "print(f\"3rd Quartile is {Q3}\")\n",
    "print(f\"4th Quartile is {Q4}\")"
   ]
  },
  {
   "cell_type": "markdown",
   "id": "67971ad9",
   "metadata": {},
   "source": [
    "**IQR (Inter quartile range)**"
   ]
  },
  {
   "cell_type": "code",
   "execution_count": 84,
   "id": "eee75d30",
   "metadata": {},
   "outputs": [],
   "source": [
    "Q1= tips['tip'].quantile(q=0.25)\n",
    "Q3= tips['tip'].quantile(q=0.75)"
   ]
  },
  {
   "cell_type": "code",
   "execution_count": 36,
   "id": "6498904d",
   "metadata": {},
   "outputs": [],
   "source": [
    "q1= tips['total_bill'].quantile(q=0.25)\n",
    "q3= tips['total_bill'].quantile(q=0.75)"
   ]
  },
  {
   "cell_type": "code",
   "execution_count": 86,
   "id": "170d30ad",
   "metadata": {},
   "outputs": [
    {
     "name": "stdout",
     "output_type": "stream",
     "text": [
      "IQR OF median tip : 1.5625\n",
      "IQR OF median total bill : 87274.0\n"
     ]
    }
   ],
   "source": [
    "IQR = Q3-Q1\n",
    "print(f\"IQR OF median tip : {IQR}\")\n",
    "iqr = q3-q1\n",
    "print(f\"IQR OF median total bill : {iqr}\")"
   ]
  },
  {
   "cell_type": "markdown",
   "id": "55c2c0be",
   "metadata": {},
   "source": [
    "**Cortail Coefficient of dispersion (QCD)**"
   ]
  },
  {
   "cell_type": "code",
   "execution_count": 40,
   "id": "542a9a67",
   "metadata": {},
   "outputs": [],
   "source": [
    "QCD = (Q3 - Q1)/(Q3 + Q1)"
   ]
  },
  {
   "cell_type": "code",
   "execution_count": 41,
   "id": "e0433a91",
   "metadata": {},
   "outputs": [
    {
     "name": "stdout",
     "output_type": "stream",
     "text": [
      "Cortail Coefficient of dispersion is 0.2808988764044944\n"
     ]
    }
   ],
   "source": [
    "print(f'Cortail Coefficient of dispersion is {QCD}')"
   ]
  },
  {
   "cell_type": "code",
   "execution_count": 2,
   "id": "e314d431",
   "metadata": {},
   "outputs": [
    {
     "data": {
      "text/html": [
       "<div>\n",
       "<style scoped>\n",
       "    .dataframe tbody tr th:only-of-type {\n",
       "        vertical-align: middle;\n",
       "    }\n",
       "\n",
       "    .dataframe tbody tr th {\n",
       "        vertical-align: top;\n",
       "    }\n",
       "\n",
       "    .dataframe thead th {\n",
       "        text-align: right;\n",
       "    }\n",
       "</style>\n",
       "<table border=\"1\" class=\"dataframe\">\n",
       "  <thead>\n",
       "    <tr style=\"text-align: right;\">\n",
       "      <th></th>\n",
       "      <th>survived</th>\n",
       "      <th>pclass</th>\n",
       "      <th>sex</th>\n",
       "      <th>age</th>\n",
       "      <th>sibsp</th>\n",
       "      <th>parch</th>\n",
       "      <th>fare</th>\n",
       "      <th>embarked</th>\n",
       "      <th>class</th>\n",
       "      <th>who</th>\n",
       "      <th>adult_male</th>\n",
       "      <th>deck</th>\n",
       "      <th>embark_town</th>\n",
       "      <th>alive</th>\n",
       "      <th>alone</th>\n",
       "    </tr>\n",
       "  </thead>\n",
       "  <tbody>\n",
       "    <tr>\n",
       "      <th>0</th>\n",
       "      <td>0</td>\n",
       "      <td>3</td>\n",
       "      <td>male</td>\n",
       "      <td>22.0</td>\n",
       "      <td>1</td>\n",
       "      <td>0</td>\n",
       "      <td>7.2500</td>\n",
       "      <td>S</td>\n",
       "      <td>Third</td>\n",
       "      <td>man</td>\n",
       "      <td>True</td>\n",
       "      <td>NaN</td>\n",
       "      <td>Southampton</td>\n",
       "      <td>no</td>\n",
       "      <td>False</td>\n",
       "    </tr>\n",
       "    <tr>\n",
       "      <th>1</th>\n",
       "      <td>1</td>\n",
       "      <td>1</td>\n",
       "      <td>female</td>\n",
       "      <td>38.0</td>\n",
       "      <td>1</td>\n",
       "      <td>0</td>\n",
       "      <td>71.2833</td>\n",
       "      <td>C</td>\n",
       "      <td>First</td>\n",
       "      <td>woman</td>\n",
       "      <td>False</td>\n",
       "      <td>C</td>\n",
       "      <td>Cherbourg</td>\n",
       "      <td>yes</td>\n",
       "      <td>False</td>\n",
       "    </tr>\n",
       "    <tr>\n",
       "      <th>2</th>\n",
       "      <td>1</td>\n",
       "      <td>3</td>\n",
       "      <td>female</td>\n",
       "      <td>26.0</td>\n",
       "      <td>0</td>\n",
       "      <td>0</td>\n",
       "      <td>7.9250</td>\n",
       "      <td>S</td>\n",
       "      <td>Third</td>\n",
       "      <td>woman</td>\n",
       "      <td>False</td>\n",
       "      <td>NaN</td>\n",
       "      <td>Southampton</td>\n",
       "      <td>yes</td>\n",
       "      <td>True</td>\n",
       "    </tr>\n",
       "    <tr>\n",
       "      <th>3</th>\n",
       "      <td>1</td>\n",
       "      <td>1</td>\n",
       "      <td>female</td>\n",
       "      <td>35.0</td>\n",
       "      <td>1</td>\n",
       "      <td>0</td>\n",
       "      <td>53.1000</td>\n",
       "      <td>S</td>\n",
       "      <td>First</td>\n",
       "      <td>woman</td>\n",
       "      <td>False</td>\n",
       "      <td>C</td>\n",
       "      <td>Southampton</td>\n",
       "      <td>yes</td>\n",
       "      <td>False</td>\n",
       "    </tr>\n",
       "    <tr>\n",
       "      <th>4</th>\n",
       "      <td>0</td>\n",
       "      <td>3</td>\n",
       "      <td>male</td>\n",
       "      <td>35.0</td>\n",
       "      <td>0</td>\n",
       "      <td>0</td>\n",
       "      <td>8.0500</td>\n",
       "      <td>S</td>\n",
       "      <td>Third</td>\n",
       "      <td>man</td>\n",
       "      <td>True</td>\n",
       "      <td>NaN</td>\n",
       "      <td>Southampton</td>\n",
       "      <td>no</td>\n",
       "      <td>True</td>\n",
       "    </tr>\n",
       "    <tr>\n",
       "      <th>...</th>\n",
       "      <td>...</td>\n",
       "      <td>...</td>\n",
       "      <td>...</td>\n",
       "      <td>...</td>\n",
       "      <td>...</td>\n",
       "      <td>...</td>\n",
       "      <td>...</td>\n",
       "      <td>...</td>\n",
       "      <td>...</td>\n",
       "      <td>...</td>\n",
       "      <td>...</td>\n",
       "      <td>...</td>\n",
       "      <td>...</td>\n",
       "      <td>...</td>\n",
       "      <td>...</td>\n",
       "    </tr>\n",
       "    <tr>\n",
       "      <th>886</th>\n",
       "      <td>0</td>\n",
       "      <td>2</td>\n",
       "      <td>male</td>\n",
       "      <td>27.0</td>\n",
       "      <td>0</td>\n",
       "      <td>0</td>\n",
       "      <td>13.0000</td>\n",
       "      <td>S</td>\n",
       "      <td>Second</td>\n",
       "      <td>man</td>\n",
       "      <td>True</td>\n",
       "      <td>NaN</td>\n",
       "      <td>Southampton</td>\n",
       "      <td>no</td>\n",
       "      <td>True</td>\n",
       "    </tr>\n",
       "    <tr>\n",
       "      <th>887</th>\n",
       "      <td>1</td>\n",
       "      <td>1</td>\n",
       "      <td>female</td>\n",
       "      <td>19.0</td>\n",
       "      <td>0</td>\n",
       "      <td>0</td>\n",
       "      <td>30.0000</td>\n",
       "      <td>S</td>\n",
       "      <td>First</td>\n",
       "      <td>woman</td>\n",
       "      <td>False</td>\n",
       "      <td>B</td>\n",
       "      <td>Southampton</td>\n",
       "      <td>yes</td>\n",
       "      <td>True</td>\n",
       "    </tr>\n",
       "    <tr>\n",
       "      <th>888</th>\n",
       "      <td>0</td>\n",
       "      <td>3</td>\n",
       "      <td>female</td>\n",
       "      <td>NaN</td>\n",
       "      <td>1</td>\n",
       "      <td>2</td>\n",
       "      <td>23.4500</td>\n",
       "      <td>S</td>\n",
       "      <td>Third</td>\n",
       "      <td>woman</td>\n",
       "      <td>False</td>\n",
       "      <td>NaN</td>\n",
       "      <td>Southampton</td>\n",
       "      <td>no</td>\n",
       "      <td>False</td>\n",
       "    </tr>\n",
       "    <tr>\n",
       "      <th>889</th>\n",
       "      <td>1</td>\n",
       "      <td>1</td>\n",
       "      <td>male</td>\n",
       "      <td>26.0</td>\n",
       "      <td>0</td>\n",
       "      <td>0</td>\n",
       "      <td>30.0000</td>\n",
       "      <td>C</td>\n",
       "      <td>First</td>\n",
       "      <td>man</td>\n",
       "      <td>True</td>\n",
       "      <td>C</td>\n",
       "      <td>Cherbourg</td>\n",
       "      <td>yes</td>\n",
       "      <td>True</td>\n",
       "    </tr>\n",
       "    <tr>\n",
       "      <th>890</th>\n",
       "      <td>0</td>\n",
       "      <td>3</td>\n",
       "      <td>male</td>\n",
       "      <td>32.0</td>\n",
       "      <td>0</td>\n",
       "      <td>0</td>\n",
       "      <td>7.7500</td>\n",
       "      <td>Q</td>\n",
       "      <td>Third</td>\n",
       "      <td>man</td>\n",
       "      <td>True</td>\n",
       "      <td>NaN</td>\n",
       "      <td>Queenstown</td>\n",
       "      <td>no</td>\n",
       "      <td>True</td>\n",
       "    </tr>\n",
       "  </tbody>\n",
       "</table>\n",
       "<p>891 rows × 15 columns</p>\n",
       "</div>"
      ],
      "text/plain": [
       "     survived  pclass     sex   age  sibsp  parch     fare embarked   class  \\\n",
       "0           0       3    male  22.0      1      0   7.2500        S   Third   \n",
       "1           1       1  female  38.0      1      0  71.2833        C   First   \n",
       "2           1       3  female  26.0      0      0   7.9250        S   Third   \n",
       "3           1       1  female  35.0      1      0  53.1000        S   First   \n",
       "4           0       3    male  35.0      0      0   8.0500        S   Third   \n",
       "..        ...     ...     ...   ...    ...    ...      ...      ...     ...   \n",
       "886         0       2    male  27.0      0      0  13.0000        S  Second   \n",
       "887         1       1  female  19.0      0      0  30.0000        S   First   \n",
       "888         0       3  female   NaN      1      2  23.4500        S   Third   \n",
       "889         1       1    male  26.0      0      0  30.0000        C   First   \n",
       "890         0       3    male  32.0      0      0   7.7500        Q   Third   \n",
       "\n",
       "       who  adult_male deck  embark_town alive  alone  \n",
       "0      man        True  NaN  Southampton    no  False  \n",
       "1    woman       False    C    Cherbourg   yes  False  \n",
       "2    woman       False  NaN  Southampton   yes   True  \n",
       "3    woman       False    C  Southampton   yes  False  \n",
       "4      man        True  NaN  Southampton    no   True  \n",
       "..     ...         ...  ...          ...   ...    ...  \n",
       "886    man        True  NaN  Southampton    no   True  \n",
       "887  woman       False    B  Southampton   yes   True  \n",
       "888  woman       False  NaN  Southampton    no  False  \n",
       "889    man        True    C    Cherbourg   yes   True  \n",
       "890    man        True  NaN   Queenstown    no   True  \n",
       "\n",
       "[891 rows x 15 columns]"
      ]
     },
     "execution_count": 2,
     "metadata": {},
     "output_type": "execute_result"
    }
   ],
   "source": [
    "titanic = pd.read_csv(r\"C:\\Users\\akash\\Documents\\seaborn_data\\seaborn-data\\titanic.csv\")\n",
    "titanic"
   ]
  },
  {
   "cell_type": "markdown",
   "id": "eab59b44",
   "metadata": {},
   "source": [
    "**Coefficient of Variation (CV)**"
   ]
  },
  {
   "cell_type": "code",
   "execution_count": 57,
   "id": "f58a466c",
   "metadata": {},
   "outputs": [],
   "source": [
    "fare_mean=titanic['fare'].mean()\n",
    "fare_std=titanic['fare'].std()\n",
    "\n",
    "age_mean=titanic['age'].mean()\n",
    "age_std=titanic['age'].std()\n",
    "\n",
    "fare_cv=fare_std/fare_mean\n",
    "age_cv=age_std/age_mean"
   ]
  },
  {
   "cell_type": "code",
   "execution_count": 58,
   "id": "27e90b3e",
   "metadata": {},
   "outputs": [
    {
     "name": "stdout",
     "output_type": "stream",
     "text": [
      "Coefficient of variation of fare is 1.54307252784085\n",
      "Coefficient of variation of passangers age is 0.48912218554656756\n"
     ]
    }
   ],
   "source": [
    "print(f'Coefficient of variation of fare is {fare_cv}')\n",
    "print(f'Coefficient of variation of passangers age is {age_cv}')"
   ]
  },
  {
   "cell_type": "markdown",
   "id": "20fc0155",
   "metadata": {},
   "source": [
    "**Quartiles / Quantiles**"
   ]
  },
  {
   "cell_type": "code",
   "execution_count": 13,
   "id": "b9a28566",
   "metadata": {},
   "outputs": [
    {
     "name": "stdout",
     "output_type": "stream",
     "text": [
      "1st Quartile is 7.9104\n",
      "2nd Quartile is 14.4542\n",
      "3rd Quartile is 31.0\n",
      "4th Quartile is 512.3292\n"
     ]
    }
   ],
   "source": [
    "Q1 = np.quantile(titanic['fare'],q=0.25)\n",
    "Q2 = np.quantile(titanic['fare'],q=0.50)\n",
    "Q3 = np.quantile(titanic['fare'],q=0.75)\n",
    "Q4 = np.quantile(titanic['fare'],q=1)\n",
    "print(f\"1st Quartile is {Q1}\")\n",
    "print(f\"2nd Quartile is {Q2}\")\n",
    "print(f\"3rd Quartile is {Q3}\")\n",
    "print(f\"4th Quartile is {Q4}\")"
   ]
  },
  {
   "cell_type": "markdown",
   "id": "c2cdb142",
   "metadata": {},
   "source": [
    "**IQR (Inter quartile range)**"
   ]
  },
  {
   "cell_type": "code",
   "execution_count": 95,
   "id": "90b1520d",
   "metadata": {},
   "outputs": [],
   "source": [
    "Q1= titanic['fare'].quantile(q=0.25)\n",
    "Q3= titanic['fare'].quantile(q=0.75)"
   ]
  },
  {
   "cell_type": "code",
   "execution_count": 96,
   "id": "f16d7557",
   "metadata": {},
   "outputs": [],
   "source": [
    "q1= titanic['age'].quantile(q=0.25)\n",
    "q3= titanic['age'].quantile(q=0.75)"
   ]
  },
  {
   "cell_type": "code",
   "execution_count": 97,
   "id": "69462822",
   "metadata": {},
   "outputs": [
    {
     "name": "stdout",
     "output_type": "stream",
     "text": [
      "IQR OF median fare : 23.0896\n"
     ]
    }
   ],
   "source": [
    "IQR = Q3-Q1\n",
    "print(f\"IQR OF median fare : {IQR}\")"
   ]
  },
  {
   "cell_type": "code",
   "execution_count": 94,
   "id": "84d50e10",
   "metadata": {},
   "outputs": [
    {
     "name": "stdout",
     "output_type": "stream",
     "text": [
      "IQR OF median age : 17.875\n"
     ]
    }
   ],
   "source": [
    "iqr = q3-q1\n",
    "print(f\"IQR OF median age : {iqr}\")"
   ]
  },
  {
   "cell_type": "markdown",
   "id": "8747fbc4",
   "metadata": {},
   "source": [
    "**Cortail Coefficient of dispersion (QCD)**"
   ]
  },
  {
   "cell_type": "code",
   "execution_count": 16,
   "id": "9dbb70c2",
   "metadata": {},
   "outputs": [],
   "source": [
    "QCD = (Q3 - Q1)/(Q3 + Q1)"
   ]
  },
  {
   "cell_type": "code",
   "execution_count": 17,
   "id": "5b5c2fc9",
   "metadata": {},
   "outputs": [
    {
     "name": "stdout",
     "output_type": "stream",
     "text": [
      "Cortail Coefficient of dispersion is 0.5934043340597887\n"
     ]
    }
   ],
   "source": [
    "print(f'Cortail Coefficient of dispersion is {QCD}')"
   ]
  },
  {
   "cell_type": "code",
   "execution_count": 18,
   "id": "01f5fc8f",
   "metadata": {},
   "outputs": [
    {
     "data": {
      "text/html": [
       "<div>\n",
       "<style scoped>\n",
       "    .dataframe tbody tr th:only-of-type {\n",
       "        vertical-align: middle;\n",
       "    }\n",
       "\n",
       "    .dataframe tbody tr th {\n",
       "        vertical-align: top;\n",
       "    }\n",
       "\n",
       "    .dataframe thead th {\n",
       "        text-align: right;\n",
       "    }\n",
       "</style>\n",
       "<table border=\"1\" class=\"dataframe\">\n",
       "  <thead>\n",
       "    <tr style=\"text-align: right;\">\n",
       "      <th></th>\n",
       "      <th>price</th>\n",
       "      <th>area</th>\n",
       "      <th>bedrooms</th>\n",
       "      <th>bathrooms</th>\n",
       "      <th>stories</th>\n",
       "      <th>mainroad</th>\n",
       "      <th>guestroom</th>\n",
       "      <th>basement</th>\n",
       "      <th>hotwaterheating</th>\n",
       "      <th>airconditioning</th>\n",
       "      <th>parking</th>\n",
       "      <th>prefarea</th>\n",
       "      <th>furnishingstatus</th>\n",
       "    </tr>\n",
       "  </thead>\n",
       "  <tbody>\n",
       "    <tr>\n",
       "      <th>0</th>\n",
       "      <td>13300000</td>\n",
       "      <td>7420</td>\n",
       "      <td>4</td>\n",
       "      <td>2</td>\n",
       "      <td>3</td>\n",
       "      <td>yes</td>\n",
       "      <td>no</td>\n",
       "      <td>no</td>\n",
       "      <td>no</td>\n",
       "      <td>yes</td>\n",
       "      <td>2</td>\n",
       "      <td>yes</td>\n",
       "      <td>furnished</td>\n",
       "    </tr>\n",
       "    <tr>\n",
       "      <th>1</th>\n",
       "      <td>12250000</td>\n",
       "      <td>8960</td>\n",
       "      <td>4</td>\n",
       "      <td>4</td>\n",
       "      <td>4</td>\n",
       "      <td>yes</td>\n",
       "      <td>no</td>\n",
       "      <td>no</td>\n",
       "      <td>no</td>\n",
       "      <td>yes</td>\n",
       "      <td>3</td>\n",
       "      <td>no</td>\n",
       "      <td>furnished</td>\n",
       "    </tr>\n",
       "    <tr>\n",
       "      <th>2</th>\n",
       "      <td>12250000</td>\n",
       "      <td>9960</td>\n",
       "      <td>3</td>\n",
       "      <td>2</td>\n",
       "      <td>2</td>\n",
       "      <td>yes</td>\n",
       "      <td>no</td>\n",
       "      <td>yes</td>\n",
       "      <td>no</td>\n",
       "      <td>no</td>\n",
       "      <td>2</td>\n",
       "      <td>yes</td>\n",
       "      <td>semi-furnished</td>\n",
       "    </tr>\n",
       "    <tr>\n",
       "      <th>3</th>\n",
       "      <td>12215000</td>\n",
       "      <td>7500</td>\n",
       "      <td>4</td>\n",
       "      <td>2</td>\n",
       "      <td>2</td>\n",
       "      <td>yes</td>\n",
       "      <td>no</td>\n",
       "      <td>yes</td>\n",
       "      <td>no</td>\n",
       "      <td>yes</td>\n",
       "      <td>3</td>\n",
       "      <td>yes</td>\n",
       "      <td>furnished</td>\n",
       "    </tr>\n",
       "    <tr>\n",
       "      <th>4</th>\n",
       "      <td>11410000</td>\n",
       "      <td>7420</td>\n",
       "      <td>4</td>\n",
       "      <td>1</td>\n",
       "      <td>2</td>\n",
       "      <td>yes</td>\n",
       "      <td>yes</td>\n",
       "      <td>yes</td>\n",
       "      <td>no</td>\n",
       "      <td>yes</td>\n",
       "      <td>2</td>\n",
       "      <td>no</td>\n",
       "      <td>furnished</td>\n",
       "    </tr>\n",
       "    <tr>\n",
       "      <th>...</th>\n",
       "      <td>...</td>\n",
       "      <td>...</td>\n",
       "      <td>...</td>\n",
       "      <td>...</td>\n",
       "      <td>...</td>\n",
       "      <td>...</td>\n",
       "      <td>...</td>\n",
       "      <td>...</td>\n",
       "      <td>...</td>\n",
       "      <td>...</td>\n",
       "      <td>...</td>\n",
       "      <td>...</td>\n",
       "      <td>...</td>\n",
       "    </tr>\n",
       "    <tr>\n",
       "      <th>540</th>\n",
       "      <td>1820000</td>\n",
       "      <td>3000</td>\n",
       "      <td>2</td>\n",
       "      <td>1</td>\n",
       "      <td>1</td>\n",
       "      <td>yes</td>\n",
       "      <td>no</td>\n",
       "      <td>yes</td>\n",
       "      <td>no</td>\n",
       "      <td>no</td>\n",
       "      <td>2</td>\n",
       "      <td>no</td>\n",
       "      <td>unfurnished</td>\n",
       "    </tr>\n",
       "    <tr>\n",
       "      <th>541</th>\n",
       "      <td>1767150</td>\n",
       "      <td>2400</td>\n",
       "      <td>3</td>\n",
       "      <td>1</td>\n",
       "      <td>1</td>\n",
       "      <td>no</td>\n",
       "      <td>no</td>\n",
       "      <td>no</td>\n",
       "      <td>no</td>\n",
       "      <td>no</td>\n",
       "      <td>0</td>\n",
       "      <td>no</td>\n",
       "      <td>semi-furnished</td>\n",
       "    </tr>\n",
       "    <tr>\n",
       "      <th>542</th>\n",
       "      <td>1750000</td>\n",
       "      <td>3620</td>\n",
       "      <td>2</td>\n",
       "      <td>1</td>\n",
       "      <td>1</td>\n",
       "      <td>yes</td>\n",
       "      <td>no</td>\n",
       "      <td>no</td>\n",
       "      <td>no</td>\n",
       "      <td>no</td>\n",
       "      <td>0</td>\n",
       "      <td>no</td>\n",
       "      <td>unfurnished</td>\n",
       "    </tr>\n",
       "    <tr>\n",
       "      <th>543</th>\n",
       "      <td>1750000</td>\n",
       "      <td>2910</td>\n",
       "      <td>3</td>\n",
       "      <td>1</td>\n",
       "      <td>1</td>\n",
       "      <td>no</td>\n",
       "      <td>no</td>\n",
       "      <td>no</td>\n",
       "      <td>no</td>\n",
       "      <td>no</td>\n",
       "      <td>0</td>\n",
       "      <td>no</td>\n",
       "      <td>furnished</td>\n",
       "    </tr>\n",
       "    <tr>\n",
       "      <th>544</th>\n",
       "      <td>1750000</td>\n",
       "      <td>3850</td>\n",
       "      <td>3</td>\n",
       "      <td>1</td>\n",
       "      <td>2</td>\n",
       "      <td>yes</td>\n",
       "      <td>no</td>\n",
       "      <td>no</td>\n",
       "      <td>no</td>\n",
       "      <td>no</td>\n",
       "      <td>0</td>\n",
       "      <td>no</td>\n",
       "      <td>unfurnished</td>\n",
       "    </tr>\n",
       "  </tbody>\n",
       "</table>\n",
       "<p>545 rows × 13 columns</p>\n",
       "</div>"
      ],
      "text/plain": [
       "        price  area  bedrooms  bathrooms  stories mainroad guestroom basement  \\\n",
       "0    13300000  7420         4          2        3      yes        no       no   \n",
       "1    12250000  8960         4          4        4      yes        no       no   \n",
       "2    12250000  9960         3          2        2      yes        no      yes   \n",
       "3    12215000  7500         4          2        2      yes        no      yes   \n",
       "4    11410000  7420         4          1        2      yes       yes      yes   \n",
       "..        ...   ...       ...        ...      ...      ...       ...      ...   \n",
       "540   1820000  3000         2          1        1      yes        no      yes   \n",
       "541   1767150  2400         3          1        1       no        no       no   \n",
       "542   1750000  3620         2          1        1      yes        no       no   \n",
       "543   1750000  2910         3          1        1       no        no       no   \n",
       "544   1750000  3850         3          1        2      yes        no       no   \n",
       "\n",
       "    hotwaterheating airconditioning  parking prefarea furnishingstatus  \n",
       "0                no             yes        2      yes        furnished  \n",
       "1                no             yes        3       no        furnished  \n",
       "2                no              no        2      yes   semi-furnished  \n",
       "3                no             yes        3      yes        furnished  \n",
       "4                no             yes        2       no        furnished  \n",
       "..              ...             ...      ...      ...              ...  \n",
       "540              no              no        2       no      unfurnished  \n",
       "541              no              no        0       no   semi-furnished  \n",
       "542              no              no        0       no      unfurnished  \n",
       "543              no              no        0       no        furnished  \n",
       "544              no              no        0       no      unfurnished  \n",
       "\n",
       "[545 rows x 13 columns]"
      ]
     },
     "execution_count": 18,
     "metadata": {},
     "output_type": "execute_result"
    }
   ],
   "source": [
    "housing = pd.read_csv(r\"C:\\Users\\akash\\Documents\\seaborn_data\\seaborn-data\\Housing.csv\")\n",
    "housing"
   ]
  },
  {
   "cell_type": "markdown",
   "id": "e53f7213",
   "metadata": {},
   "source": [
    "**Coefficient of Variation (CV)**"
   ]
  },
  {
   "cell_type": "code",
   "execution_count": 60,
   "id": "eb9c9e3d",
   "metadata": {},
   "outputs": [],
   "source": [
    "room_mean=housing['bedrooms'].mean()\n",
    "room_std=housing['bedrooms'].std()\n",
    "\n",
    "bath_mean=housing['bathrooms'].mean()\n",
    "bath_std=housing['bedrooms'].std()\n",
    "\n",
    "room_cv=room_std/room_mean\n",
    "bath_cv=bath_std/bath_mean"
   ]
  },
  {
   "cell_type": "code",
   "execution_count": 61,
   "id": "a6d23e4e",
   "metadata": {},
   "outputs": [
    {
     "name": "stdout",
     "output_type": "stream",
     "text": [
      "Coefficient of variation of fare is 0.2489138638674959\n",
      "Coefficient of variation of passangers age is 0.5738156975889777\n"
     ]
    }
   ],
   "source": [
    "print(f'Coefficient of variation of fare is {room_cv}')\n",
    "print(f'Coefficient of variation of passangers age is {bath_cv}')"
   ]
  },
  {
   "cell_type": "markdown",
   "id": "42227cbd",
   "metadata": {},
   "source": [
    "**Quartiles / Quantiles**"
   ]
  },
  {
   "cell_type": "code",
   "execution_count": 36,
   "id": "ad5b78a1",
   "metadata": {},
   "outputs": [
    {
     "name": "stdout",
     "output_type": "stream",
     "text": [
      "1st Quartile is 2.0\n",
      "2nd Quartile is 3.0\n",
      "3rd Quartile is 3.0\n",
      "4th Quartile is 6\n"
     ]
    }
   ],
   "source": [
    "Q1 = np.quantile(housing['bedrooms'],q=0.25)\n",
    "Q2 = np.quantile(housing['bedrooms'],q=0.50)\n",
    "Q3 = np.quantile(housing['bedrooms'],q=0.75)\n",
    "Q4 = np.quantile(housing['bedrooms'],q=1)\n",
    "print(f\"1st Quartile is {Q1}\")\n",
    "print(f\"2nd Quartile is {Q2}\")\n",
    "print(f\"3rd Quartile is {Q3}\")\n",
    "print(f\"4th Quartile is {Q4}\")"
   ]
  },
  {
   "cell_type": "markdown",
   "id": "c34e53dd",
   "metadata": {},
   "source": [
    "**IQR (Inter quartile range)**"
   ]
  },
  {
   "cell_type": "code",
   "execution_count": 87,
   "id": "7f905fe5",
   "metadata": {},
   "outputs": [],
   "source": [
    "Q1= housing['bedrooms'].quantile(q=0.25)\n",
    "Q3= housing['bedrooms'].quantile(q=0.75)"
   ]
  },
  {
   "cell_type": "code",
   "execution_count": 88,
   "id": "af45c52f",
   "metadata": {},
   "outputs": [],
   "source": [
    "q1= housing['bathrooms'].quantile(q=0.25)\n",
    "q3= housing['bathrooms'].quantile(q=0.75)"
   ]
  },
  {
   "cell_type": "code",
   "execution_count": 89,
   "id": "17554c89",
   "metadata": {},
   "outputs": [
    {
     "name": "stdout",
     "output_type": "stream",
     "text": [
      "IQR OF median bedroom : 1.0\n"
     ]
    }
   ],
   "source": [
    "IQR = Q3-Q1\n",
    "print(f\"IQR OF median bedroom : {IQR}\")"
   ]
  },
  {
   "cell_type": "code",
   "execution_count": 90,
   "id": "d10ebb29",
   "metadata": {},
   "outputs": [
    {
     "name": "stdout",
     "output_type": "stream",
     "text": [
      "IQR OF median bathroom : 1.0\n"
     ]
    }
   ],
   "source": [
    "iqr = q3-q1\n",
    "print(f\"IQR OF median bathroom : {iqr}\")"
   ]
  },
  {
   "cell_type": "markdown",
   "id": "a6d8ddee",
   "metadata": {},
   "source": [
    "**Cortail Coefficient of dispersion (QCD)**"
   ]
  },
  {
   "cell_type": "code",
   "execution_count": 39,
   "id": "0c645e58",
   "metadata": {},
   "outputs": [],
   "source": [
    "QCD = (Q3 - Q1)/(Q3 + Q1)"
   ]
  },
  {
   "cell_type": "code",
   "execution_count": 40,
   "id": "ad629aae",
   "metadata": {},
   "outputs": [
    {
     "name": "stdout",
     "output_type": "stream",
     "text": [
      "Cortail Coefficient of dispersion is 0.2\n"
     ]
    }
   ],
   "source": [
    "print(f'Cortail Coefficient of dispersion is {QCD}')"
   ]
  },
  {
   "cell_type": "code",
   "execution_count": 42,
   "id": "79f614db",
   "metadata": {},
   "outputs": [
    {
     "data": {
      "text/html": [
       "<div>\n",
       "<style scoped>\n",
       "    .dataframe tbody tr th:only-of-type {\n",
       "        vertical-align: middle;\n",
       "    }\n",
       "\n",
       "    .dataframe tbody tr th {\n",
       "        vertical-align: top;\n",
       "    }\n",
       "\n",
       "    .dataframe thead th {\n",
       "        text-align: right;\n",
       "    }\n",
       "</style>\n",
       "<table border=\"1\" class=\"dataframe\">\n",
       "  <thead>\n",
       "    <tr style=\"text-align: right;\">\n",
       "      <th></th>\n",
       "      <th>Unnamed: 0</th>\n",
       "      <th>work_year</th>\n",
       "      <th>experience_level</th>\n",
       "      <th>employment_type</th>\n",
       "      <th>job_title</th>\n",
       "      <th>salary</th>\n",
       "      <th>salary_currency</th>\n",
       "      <th>salary_in_usd</th>\n",
       "      <th>employee_residence</th>\n",
       "      <th>remote_ratio</th>\n",
       "      <th>company_location</th>\n",
       "      <th>company_size</th>\n",
       "    </tr>\n",
       "  </thead>\n",
       "  <tbody>\n",
       "    <tr>\n",
       "      <th>0</th>\n",
       "      <td>0</td>\n",
       "      <td>2020</td>\n",
       "      <td>MI</td>\n",
       "      <td>FT</td>\n",
       "      <td>Data Scientist</td>\n",
       "      <td>70000</td>\n",
       "      <td>EUR</td>\n",
       "      <td>79833</td>\n",
       "      <td>DE</td>\n",
       "      <td>0</td>\n",
       "      <td>DE</td>\n",
       "      <td>L</td>\n",
       "    </tr>\n",
       "    <tr>\n",
       "      <th>1</th>\n",
       "      <td>1</td>\n",
       "      <td>2020</td>\n",
       "      <td>SE</td>\n",
       "      <td>FT</td>\n",
       "      <td>Machine Learning Scientist</td>\n",
       "      <td>260000</td>\n",
       "      <td>USD</td>\n",
       "      <td>260000</td>\n",
       "      <td>JP</td>\n",
       "      <td>0</td>\n",
       "      <td>JP</td>\n",
       "      <td>S</td>\n",
       "    </tr>\n",
       "    <tr>\n",
       "      <th>2</th>\n",
       "      <td>2</td>\n",
       "      <td>2020</td>\n",
       "      <td>SE</td>\n",
       "      <td>FT</td>\n",
       "      <td>Big Data Engineer</td>\n",
       "      <td>85000</td>\n",
       "      <td>GBP</td>\n",
       "      <td>109024</td>\n",
       "      <td>GB</td>\n",
       "      <td>50</td>\n",
       "      <td>GB</td>\n",
       "      <td>M</td>\n",
       "    </tr>\n",
       "    <tr>\n",
       "      <th>3</th>\n",
       "      <td>3</td>\n",
       "      <td>2020</td>\n",
       "      <td>MI</td>\n",
       "      <td>FT</td>\n",
       "      <td>Product Data Analyst</td>\n",
       "      <td>20000</td>\n",
       "      <td>USD</td>\n",
       "      <td>20000</td>\n",
       "      <td>HN</td>\n",
       "      <td>0</td>\n",
       "      <td>HN</td>\n",
       "      <td>S</td>\n",
       "    </tr>\n",
       "    <tr>\n",
       "      <th>4</th>\n",
       "      <td>4</td>\n",
       "      <td>2020</td>\n",
       "      <td>SE</td>\n",
       "      <td>FT</td>\n",
       "      <td>Machine Learning Engineer</td>\n",
       "      <td>150000</td>\n",
       "      <td>USD</td>\n",
       "      <td>150000</td>\n",
       "      <td>US</td>\n",
       "      <td>50</td>\n",
       "      <td>US</td>\n",
       "      <td>L</td>\n",
       "    </tr>\n",
       "    <tr>\n",
       "      <th>...</th>\n",
       "      <td>...</td>\n",
       "      <td>...</td>\n",
       "      <td>...</td>\n",
       "      <td>...</td>\n",
       "      <td>...</td>\n",
       "      <td>...</td>\n",
       "      <td>...</td>\n",
       "      <td>...</td>\n",
       "      <td>...</td>\n",
       "      <td>...</td>\n",
       "      <td>...</td>\n",
       "      <td>...</td>\n",
       "    </tr>\n",
       "    <tr>\n",
       "      <th>602</th>\n",
       "      <td>602</td>\n",
       "      <td>2022</td>\n",
       "      <td>SE</td>\n",
       "      <td>FT</td>\n",
       "      <td>Data Engineer</td>\n",
       "      <td>154000</td>\n",
       "      <td>USD</td>\n",
       "      <td>154000</td>\n",
       "      <td>US</td>\n",
       "      <td>100</td>\n",
       "      <td>US</td>\n",
       "      <td>M</td>\n",
       "    </tr>\n",
       "    <tr>\n",
       "      <th>603</th>\n",
       "      <td>603</td>\n",
       "      <td>2022</td>\n",
       "      <td>SE</td>\n",
       "      <td>FT</td>\n",
       "      <td>Data Engineer</td>\n",
       "      <td>126000</td>\n",
       "      <td>USD</td>\n",
       "      <td>126000</td>\n",
       "      <td>US</td>\n",
       "      <td>100</td>\n",
       "      <td>US</td>\n",
       "      <td>M</td>\n",
       "    </tr>\n",
       "    <tr>\n",
       "      <th>604</th>\n",
       "      <td>604</td>\n",
       "      <td>2022</td>\n",
       "      <td>SE</td>\n",
       "      <td>FT</td>\n",
       "      <td>Data Analyst</td>\n",
       "      <td>129000</td>\n",
       "      <td>USD</td>\n",
       "      <td>129000</td>\n",
       "      <td>US</td>\n",
       "      <td>0</td>\n",
       "      <td>US</td>\n",
       "      <td>M</td>\n",
       "    </tr>\n",
       "    <tr>\n",
       "      <th>605</th>\n",
       "      <td>605</td>\n",
       "      <td>2022</td>\n",
       "      <td>SE</td>\n",
       "      <td>FT</td>\n",
       "      <td>Data Analyst</td>\n",
       "      <td>150000</td>\n",
       "      <td>USD</td>\n",
       "      <td>150000</td>\n",
       "      <td>US</td>\n",
       "      <td>100</td>\n",
       "      <td>US</td>\n",
       "      <td>M</td>\n",
       "    </tr>\n",
       "    <tr>\n",
       "      <th>606</th>\n",
       "      <td>606</td>\n",
       "      <td>2022</td>\n",
       "      <td>MI</td>\n",
       "      <td>FT</td>\n",
       "      <td>AI Scientist</td>\n",
       "      <td>200000</td>\n",
       "      <td>USD</td>\n",
       "      <td>200000</td>\n",
       "      <td>IN</td>\n",
       "      <td>100</td>\n",
       "      <td>US</td>\n",
       "      <td>L</td>\n",
       "    </tr>\n",
       "  </tbody>\n",
       "</table>\n",
       "<p>607 rows × 12 columns</p>\n",
       "</div>"
      ],
      "text/plain": [
       "     Unnamed: 0  work_year experience_level employment_type  \\\n",
       "0             0       2020               MI              FT   \n",
       "1             1       2020               SE              FT   \n",
       "2             2       2020               SE              FT   \n",
       "3             3       2020               MI              FT   \n",
       "4             4       2020               SE              FT   \n",
       "..          ...        ...              ...             ...   \n",
       "602         602       2022               SE              FT   \n",
       "603         603       2022               SE              FT   \n",
       "604         604       2022               SE              FT   \n",
       "605         605       2022               SE              FT   \n",
       "606         606       2022               MI              FT   \n",
       "\n",
       "                      job_title  salary salary_currency  salary_in_usd  \\\n",
       "0                Data Scientist   70000             EUR          79833   \n",
       "1    Machine Learning Scientist  260000             USD         260000   \n",
       "2             Big Data Engineer   85000             GBP         109024   \n",
       "3          Product Data Analyst   20000             USD          20000   \n",
       "4     Machine Learning Engineer  150000             USD         150000   \n",
       "..                          ...     ...             ...            ...   \n",
       "602               Data Engineer  154000             USD         154000   \n",
       "603               Data Engineer  126000             USD         126000   \n",
       "604                Data Analyst  129000             USD         129000   \n",
       "605                Data Analyst  150000             USD         150000   \n",
       "606                AI Scientist  200000             USD         200000   \n",
       "\n",
       "    employee_residence  remote_ratio company_location company_size  \n",
       "0                   DE             0               DE            L  \n",
       "1                   JP             0               JP            S  \n",
       "2                   GB            50               GB            M  \n",
       "3                   HN             0               HN            S  \n",
       "4                   US            50               US            L  \n",
       "..                 ...           ...              ...          ...  \n",
       "602                 US           100               US            M  \n",
       "603                 US           100               US            M  \n",
       "604                 US             0               US            M  \n",
       "605                 US           100               US            M  \n",
       "606                 IN           100               US            L  \n",
       "\n",
       "[607 rows x 12 columns]"
      ]
     },
     "execution_count": 42,
     "metadata": {},
     "output_type": "execute_result"
    }
   ],
   "source": [
    "salary = pd.read_csv(r\"C:\\Users\\akash\\Documents\\seaborn_data\\seaborn-data\\ds_salaries.csv.xls\")\n",
    "salary"
   ]
  },
  {
   "cell_type": "markdown",
   "id": "9ed03ddb",
   "metadata": {},
   "source": [
    "**Coefficient of Variation (CV)**"
   ]
  },
  {
   "cell_type": "code",
   "execution_count": 63,
   "id": "7b29150c",
   "metadata": {},
   "outputs": [],
   "source": [
    "salary_mean=salary['salary'].mean()\n",
    "salary_std=salary['salary'].std()\n",
    "\n",
    "usd_mean=salary['salary_in_usd'].mean()\n",
    "usd_std=salary['salary_in_usd'].std()\n",
    "\n",
    "salary_cv=salary_std/salary_mean\n",
    "usd_cv=usd_std/usd_mean"
   ]
  },
  {
   "cell_type": "code",
   "execution_count": 65,
   "id": "9bf3a004",
   "metadata": {},
   "outputs": [
    {
     "name": "stdout",
     "output_type": "stream",
     "text": [
      "Coefficient of variation of salary is 4.766534531594616\n",
      "Coefficient of variation of salary in usd is 0.6318664771209166\n"
     ]
    }
   ],
   "source": [
    "print(f'Coefficient of variation of salary is {salary_cv}')\n",
    "print(f'Coefficient of variation of salary in usd is {usd_cv}')"
   ]
  },
  {
   "cell_type": "markdown",
   "id": "bb5166d9",
   "metadata": {},
   "source": [
    "**Quartiles / Quantiles**"
   ]
  },
  {
   "cell_type": "code",
   "execution_count": 67,
   "id": "85388d20",
   "metadata": {},
   "outputs": [
    {
     "name": "stdout",
     "output_type": "stream",
     "text": [
      "1st Quartile is 70000.0\n",
      "2nd Quartile is 115000.0\n",
      "3rd Quartile is 165000.0\n",
      "4th Quartile is 30400000\n"
     ]
    }
   ],
   "source": [
    "Q1 = np.quantile(salary['salary'],q=0.25)\n",
    "Q2 = np.quantile(salary['salary'],q=0.50)\n",
    "Q3 = np.quantile(salary['salary'],q=0.75)\n",
    "Q4 = np.quantile(salary['salary'],q=1)\n",
    "print(f\"1st Quartile is {Q1}\")\n",
    "print(f\"2nd Quartile is {Q2}\")\n",
    "print(f\"3rd Quartile is {Q3}\")\n",
    "print(f\"4th Quartile is {Q4}\")"
   ]
  },
  {
   "cell_type": "markdown",
   "id": "5dee9aab",
   "metadata": {},
   "source": [
    "**IQR (Inter quartile range)**"
   ]
  },
  {
   "cell_type": "code",
   "execution_count": 69,
   "id": "d2f416c1",
   "metadata": {},
   "outputs": [],
   "source": [
    "Q1= salary['salary'].quantile(q=0.25)\n",
    "Q3= salary['salary'].quantile(q=0.75)"
   ]
  },
  {
   "cell_type": "code",
   "execution_count": 70,
   "id": "868cf04c",
   "metadata": {},
   "outputs": [],
   "source": [
    "q1= salary['salary_in_usd'].quantile(q=0.25)\n",
    "q3= salary['salary_in_usd'].quantile(q=0.75)"
   ]
  },
  {
   "cell_type": "code",
   "execution_count": 71,
   "id": "3cd23e7e",
   "metadata": {},
   "outputs": [
    {
     "name": "stdout",
     "output_type": "stream",
     "text": [
      "IQR OF median salary: 95000.0\n"
     ]
    }
   ],
   "source": [
    "IQR = Q3-Q1\n",
    "print(f\"IQR OF median salary: {IQR}\")"
   ]
  },
  {
   "cell_type": "code",
   "execution_count": 72,
   "id": "63394c64",
   "metadata": {},
   "outputs": [
    {
     "name": "stdout",
     "output_type": "stream",
     "text": [
      "IQR OF median salary in usd : 87274.0\n"
     ]
    }
   ],
   "source": [
    "iqr = q3-q1\n",
    "print(f\"IQR OF median salary in usd : {iqr}\")"
   ]
  },
  {
   "cell_type": "markdown",
   "id": "0930d5ca",
   "metadata": {},
   "source": [
    "**Cortail Coefficient of dispersion (QCD)**"
   ]
  },
  {
   "cell_type": "code",
   "execution_count": 74,
   "id": "ffce6316",
   "metadata": {},
   "outputs": [],
   "source": [
    "QCD = (Q3 - Q1)/(Q3 + Q1)"
   ]
  },
  {
   "cell_type": "code",
   "execution_count": 75,
   "id": "f1891160",
   "metadata": {},
   "outputs": [
    {
     "name": "stdout",
     "output_type": "stream",
     "text": [
      "Cortail Coefficient of dispersion is 0.40425531914893614\n"
     ]
    }
   ],
   "source": [
    "print(f'Cortail Coefficient of dispersion of salary is {QCD}')"
   ]
  },
  {
   "cell_type": "code",
   "execution_count": 76,
   "id": "f6ee3394",
   "metadata": {},
   "outputs": [],
   "source": [
    "qcd = (q3 - q1)/(q3 + q1)"
   ]
  },
  {
   "cell_type": "code",
   "execution_count": 77,
   "id": "a79ca0fd",
   "metadata": {},
   "outputs": [
    {
     "name": "stdout",
     "output_type": "stream",
     "text": [
      "Cortail Coefficient of dispersion of salary in usd is 0.41026484773840527\n"
     ]
    }
   ],
   "source": [
    "print(f'Cortail Coefficient of dispersion of salary is {qcd}')"
   ]
  },
  {
   "cell_type": "code",
   "execution_count": null,
   "id": "eacf459a",
   "metadata": {},
   "outputs": [],
   "source": []
  }
 ],
 "metadata": {
  "kernelspec": {
   "display_name": "Python 3 (ipykernel)",
   "language": "python",
   "name": "python3"
  },
  "language_info": {
   "codemirror_mode": {
    "name": "ipython",
    "version": 3
   },
   "file_extension": ".py",
   "mimetype": "text/x-python",
   "name": "python",
   "nbconvert_exporter": "python",
   "pygments_lexer": "ipython3",
   "version": "3.11.5"
  }
 },
 "nbformat": 4,
 "nbformat_minor": 5
}
