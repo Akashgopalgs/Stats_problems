{
 "cells": [
  {
   "cell_type": "code",
   "execution_count": 2,
   "id": "c81bd1b9",
   "metadata": {},
   "outputs": [],
   "source": [
    "import pandas as pd\n",
    "import numpy as np"
   ]
  },
  {
   "cell_type": "code",
   "execution_count": 11,
   "id": "751ad5a1",
   "metadata": {},
   "outputs": [
    {
     "data": {
      "text/html": [
       "<div>\n",
       "<style scoped>\n",
       "    .dataframe tbody tr th:only-of-type {\n",
       "        vertical-align: middle;\n",
       "    }\n",
       "\n",
       "    .dataframe tbody tr th {\n",
       "        vertical-align: top;\n",
       "    }\n",
       "\n",
       "    .dataframe thead th {\n",
       "        text-align: right;\n",
       "    }\n",
       "</style>\n",
       "<table border=\"1\" class=\"dataframe\">\n",
       "  <thead>\n",
       "    <tr style=\"text-align: right;\">\n",
       "      <th></th>\n",
       "      <th>product_quantity</th>\n",
       "      <th>product_quality</th>\n",
       "      <th>product_cost</th>\n",
       "    </tr>\n",
       "  </thead>\n",
       "  <tbody>\n",
       "    <tr>\n",
       "      <th>0</th>\n",
       "      <td>7</td>\n",
       "      <td>2</td>\n",
       "      <td>2300</td>\n",
       "    </tr>\n",
       "    <tr>\n",
       "      <th>1</th>\n",
       "      <td>4</td>\n",
       "      <td>4</td>\n",
       "      <td>3200</td>\n",
       "    </tr>\n",
       "    <tr>\n",
       "      <th>2</th>\n",
       "      <td>5</td>\n",
       "      <td>3</td>\n",
       "      <td>1899</td>\n",
       "    </tr>\n",
       "    <tr>\n",
       "      <th>3</th>\n",
       "      <td>9</td>\n",
       "      <td>4</td>\n",
       "      <td>3019</td>\n",
       "    </tr>\n",
       "    <tr>\n",
       "      <th>4</th>\n",
       "      <td>8</td>\n",
       "      <td>3</td>\n",
       "      <td>2056</td>\n",
       "    </tr>\n",
       "    <tr>\n",
       "      <th>5</th>\n",
       "      <td>5</td>\n",
       "      <td>5</td>\n",
       "      <td>3010</td>\n",
       "    </tr>\n",
       "    <tr>\n",
       "      <th>6</th>\n",
       "      <td>7</td>\n",
       "      <td>5</td>\n",
       "      <td>2890</td>\n",
       "    </tr>\n",
       "    <tr>\n",
       "      <th>7</th>\n",
       "      <td>7</td>\n",
       "      <td>2</td>\n",
       "      <td>2650</td>\n",
       "    </tr>\n",
       "    <tr>\n",
       "      <th>8</th>\n",
       "      <td>6</td>\n",
       "      <td>3</td>\n",
       "      <td>2999</td>\n",
       "    </tr>\n",
       "    <tr>\n",
       "      <th>9</th>\n",
       "      <td>8</td>\n",
       "      <td>4</td>\n",
       "      <td>3010</td>\n",
       "    </tr>\n",
       "  </tbody>\n",
       "</table>\n",
       "</div>"
      ],
      "text/plain": [
       "   product_quantity  product_quality  product_cost\n",
       "0                 7                2          2300\n",
       "1                 4                4          3200\n",
       "2                 5                3          1899\n",
       "3                 9                4          3019\n",
       "4                 8                3          2056\n",
       "5                 5                5          3010\n",
       "6                 7                5          2890\n",
       "7                 7                2          2650\n",
       "8                 6                3          2999\n",
       "9                 8                4          3010"
      ]
     },
     "execution_count": 11,
     "metadata": {},
     "output_type": "execute_result"
    }
   ],
   "source": [
    "production_materials={'product_quantity':[7,4,5,9,8,5,7,7,6,8],\n",
    "                     'product_quality':[2,4,3,4,3,5,5,2,3,4],\n",
    "                     'product_cost':[2300,3200,1899,3019,2056,3010,2890,2650,2999,3010]}\n",
    "df=pd.DataFrame(production_materials)\n",
    "df"
   ]
  },
  {
   "cell_type": "markdown",
   "id": "715a9c0e",
   "metadata": {},
   "source": [
    "# Finding the average of all the features"
   ]
  },
  {
   "cell_type": "code",
   "execution_count": 12,
   "id": "aef52bfc",
   "metadata": {},
   "outputs": [
    {
     "data": {
      "text/plain": [
       "6.6"
      ]
     },
     "execution_count": 12,
     "metadata": {},
     "output_type": "execute_result"
    }
   ],
   "source": [
    "df['product_quantity'].mean()"
   ]
  },
  {
   "cell_type": "markdown",
   "id": "a67374ff",
   "metadata": {},
   "source": [
    "The average quantity of the products is around 6.6"
   ]
  },
  {
   "cell_type": "code",
   "execution_count": 14,
   "id": "33e5c7ef",
   "metadata": {},
   "outputs": [
    {
     "data": {
      "text/plain": [
       "3.5"
      ]
     },
     "execution_count": 14,
     "metadata": {},
     "output_type": "execute_result"
    }
   ],
   "source": [
    "df['product_quality'].mean()"
   ]
  },
  {
   "cell_type": "markdown",
   "id": "9c2132c2",
   "metadata": {},
   "source": [
    "The average quality rating of the products is 3.5"
   ]
  },
  {
   "cell_type": "code",
   "execution_count": 15,
   "id": "001cdd06",
   "metadata": {},
   "outputs": [
    {
     "data": {
      "text/plain": [
       "2703.3"
      ]
     },
     "execution_count": 15,
     "metadata": {},
     "output_type": "execute_result"
    }
   ],
   "source": [
    "df['product_cost'].mean()"
   ]
  },
  {
   "cell_type": "markdown",
   "id": "5cfb23e1",
   "metadata": {},
   "source": [
    "The average cost of the product is 2703.3"
   ]
  },
  {
   "cell_type": "markdown",
   "id": "1d9c0de3",
   "metadata": {},
   "source": [
    "# Finding the most common value and the next common value"
   ]
  },
  {
   "cell_type": "code",
   "execution_count": 25,
   "id": "3d7fe262",
   "metadata": {},
   "outputs": [
    {
     "data": {
      "text/plain": [
       "product_quantity\n",
       "7    3\n",
       "5    2\n",
       "8    2\n",
       "4    1\n",
       "9    1\n",
       "6    1\n",
       "Name: count, dtype: int64"
      ]
     },
     "execution_count": 25,
     "metadata": {},
     "output_type": "execute_result"
    }
   ],
   "source": [
    "count =df['product_quantity'].value_counts()\n",
    "count"
   ]
  },
  {
   "cell_type": "code",
   "execution_count": 28,
   "id": "bd5f9081",
   "metadata": {},
   "outputs": [
    {
     "data": {
      "text/plain": [
       "2"
      ]
     },
     "execution_count": 28,
     "metadata": {},
     "output_type": "execute_result"
    }
   ],
   "source": [
    "diff=count.index[0]-count.index[1]\n",
    "diff"
   ]
  },
  {
   "cell_type": "markdown",
   "id": "5152380d",
   "metadata": {},
   "source": [
    "7 is  most common quantity of the product with 3 times and the the next most common product quantity is 5,8 with 2 times.\n",
    "The differance between most common quantity of product(7) and the next common quantity (5,8) is 2"
   ]
  },
  {
   "cell_type": "code",
   "execution_count": null,
   "id": "75201849",
   "metadata": {},
   "outputs": [],
   "source": []
  }
 ],
 "metadata": {
  "kernelspec": {
   "display_name": "Python 3 (ipykernel)",
   "language": "python",
   "name": "python3"
  },
  "language_info": {
   "codemirror_mode": {
    "name": "ipython",
    "version": 3
   },
   "file_extension": ".py",
   "mimetype": "text/x-python",
   "name": "python",
   "nbconvert_exporter": "python",
   "pygments_lexer": "ipython3",
   "version": "3.11.5"
  }
 },
 "nbformat": 4,
 "nbformat_minor": 5
}
